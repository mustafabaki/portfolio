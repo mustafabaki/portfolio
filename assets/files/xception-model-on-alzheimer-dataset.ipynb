{
 "cells": [
  {
   "cell_type": "code",
   "execution_count": 1,
   "id": "e94bc996",
   "metadata": {
    "execution": {
     "iopub.execute_input": "2022-12-24T22:12:01.046019Z",
     "iopub.status.busy": "2022-12-24T22:12:01.045564Z",
     "iopub.status.idle": "2022-12-24T22:12:06.915452Z",
     "shell.execute_reply": "2022-12-24T22:12:06.914086Z"
    },
    "papermill": {
     "duration": 5.879682,
     "end_time": "2022-12-24T22:12:06.918327",
     "exception": false,
     "start_time": "2022-12-24T22:12:01.038645",
     "status": "completed"
    },
    "tags": []
   },
   "outputs": [],
   "source": [
    "import matplotlib.pyplot as plt\n",
    "import numpy as np\n",
    "import PIL\n",
    "import tensorflow as tf\n",
    "from tensorflow.keras.layers import Dense,Flatten\n",
    "from tensorflow.keras.models import Sequential\n",
    "from tensorflow.keras.optimizers import Adam\n",
    "import glob\n",
    "from tensorflow import keras\n"
   ]
  },
  {
   "cell_type": "code",
   "execution_count": 2,
   "id": "a3f0dca8",
   "metadata": {
    "execution": {
     "iopub.execute_input": "2022-12-24T22:12:06.928949Z",
     "iopub.status.busy": "2022-12-24T22:12:06.927745Z",
     "iopub.status.idle": "2022-12-24T22:12:06.973152Z",
     "shell.execute_reply": "2022-12-24T22:12:06.971819Z"
    },
    "papermill": {
     "duration": 0.053414,
     "end_time": "2022-12-24T22:12:06.976214",
     "exception": false,
     "start_time": "2022-12-24T22:12:06.922800",
     "status": "completed"
    },
    "tags": []
   },
   "outputs": [
    {
     "name": "stdout",
     "output_type": "stream",
     "text": [
      "width: 200  heighth: 190\n"
     ]
    }
   ],
   "source": [
    "# detect the image size ...\n",
    "\n",
    "im = PIL.Image.open(\"../input/augmented-alzheimer-mri-dataset-v2/data/train/NonDemented/0048efe4-d51d-453c-acaa-3cd6d3f49e50.jpg\")\n",
    "w = im.size[0]\n",
    "h = im.size[1]\n",
    "\n",
    "print(f\"width: {w}  heighth: {h}\")"
   ]
  },
  {
   "cell_type": "code",
   "execution_count": 3,
   "id": "13c18d06",
   "metadata": {
    "execution": {
     "iopub.execute_input": "2022-12-24T22:12:06.986265Z",
     "iopub.status.busy": "2022-12-24T22:12:06.985898Z",
     "iopub.status.idle": "2022-12-24T22:17:50.544518Z",
     "shell.execute_reply": "2022-12-24T22:17:50.543203Z"
    },
    "papermill": {
     "duration": 343.566516,
     "end_time": "2022-12-24T22:17:50.547113",
     "exception": false,
     "start_time": "2022-12-24T22:12:06.980597",
     "status": "completed"
    },
    "tags": []
   },
   "outputs": [],
   "source": [
    "# process the images ...\n",
    "mild_demented = glob.glob('../input/augmented-alzheimer-mri-dataset-v2/data/train/MildDemented/*.*')\n",
    "moderate_demented = glob.glob('../input/augmented-alzheimer-mri-dataset-v2/data/train/ModerateDemented/*.*')\n",
    "non_demented = glob.glob('../input/augmented-alzheimer-mri-dataset-v2/data/train/NonDemented/*.*')\n",
    "very_mild_demented = glob.glob('../input/augmented-alzheimer-mri-dataset-v2/data/train/VeryMildDemented/*.*')\n",
    "\n",
    "data = []\n",
    "labels = []\n",
    "\n",
    "for i in mild_demented:   \n",
    "    image=tf.keras.preprocessing.image.load_img(i, color_mode='rgb', \n",
    "    target_size=(190,200))\n",
    "    image=np.array(image)\n",
    "    data.append(image)\n",
    "    labels.append(0)\n",
    "for i in moderate_demented:   \n",
    "    image=tf.keras.preprocessing.image.load_img(i, color_mode='rgb', \n",
    "    target_size= (190,200))\n",
    "    image=np.array(image)\n",
    "    data.append(image)\n",
    "    labels.append(1)\n",
    "for i in non_demented:   \n",
    "    image=tf.keras.preprocessing.image.load_img(i, color_mode='rgb', \n",
    "    target_size= (190,200))\n",
    "    image=np.array(image)\n",
    "    data.append(image)\n",
    "    labels.append(2)\n",
    "for i in very_mild_demented:   \n",
    "    image=tf.keras.preprocessing.image.load_img(i, color_mode='rgb', \n",
    "    target_size= (190,200))\n",
    "    image=np.array(image)\n",
    "    data.append(image)\n",
    "    labels.append(3)\n",
    "\n",
    "\n",
    "data = np.array(data)\n",
    "labels = np.array(labels)\n",
    "\n",
    "from sklearn.model_selection import train_test_split\n",
    "x_train, x_test, y_train, y_test = train_test_split(data, labels, test_size=0.2,\n",
    "                                                random_state=42)\n",
    "\n",
    "# Reserve 1000 samples for validation\n",
    "x_val = x_train[-1000:]\n",
    "y_val = y_train[-1000:]\n",
    "x_train = x_train[:-1000]\n",
    "y_train = y_train[:-1000]\n"
   ]
  },
  {
   "cell_type": "code",
   "execution_count": 4,
   "id": "9f5db2ad",
   "metadata": {
    "execution": {
     "iopub.execute_input": "2022-12-24T22:17:50.557029Z",
     "iopub.status.busy": "2022-12-24T22:17:50.556643Z",
     "iopub.status.idle": "2022-12-24T22:17:50.562635Z",
     "shell.execute_reply": "2022-12-24T22:17:50.561693Z"
    },
    "papermill": {
     "duration": 0.013282,
     "end_time": "2022-12-24T22:17:50.564692",
     "exception": false,
     "start_time": "2022-12-24T22:17:50.551410",
     "status": "completed"
    },
    "tags": []
   },
   "outputs": [],
   "source": [
    "from keras.applications.xception import Xception"
   ]
  },
  {
   "cell_type": "code",
   "execution_count": 5,
   "id": "85c3255e",
   "metadata": {
    "execution": {
     "iopub.execute_input": "2022-12-24T22:17:50.574502Z",
     "iopub.status.busy": "2022-12-24T22:17:50.574160Z",
     "iopub.status.idle": "2022-12-24T22:17:53.389680Z",
     "shell.execute_reply": "2022-12-24T22:17:53.388513Z"
    },
    "papermill": {
     "duration": 2.823813,
     "end_time": "2022-12-24T22:17:53.392500",
     "exception": false,
     "start_time": "2022-12-24T22:17:50.568687",
     "status": "completed"
    },
    "tags": []
   },
   "outputs": [
    {
     "name": "stderr",
     "output_type": "stream",
     "text": [
      "2022-12-24 22:17:50.611915: I tensorflow/core/common_runtime/process_util.cc:146] Creating new thread pool with default inter op setting: 2. Tune using inter_op_parallelism_threads for best performance.\n"
     ]
    }
   ],
   "source": [
    "xception_model = Sequential()\n",
    "pretrained_model= tf.keras.applications.Xception(include_top=False,\n",
    "                   input_shape=(190,200,3),\n",
    "                   pooling='avg',classes=4,\n",
    "                   weights=None)\n",
    "pretrained_model.load_weights(\"/kaggle/input/xception/xception_weights_tf_dim_ordering_tf_kernels_notop.h5\")\n",
    "for layer in pretrained_model.layers:\n",
    "        layer.trainable=True\n",
    "\n",
    "xception_model.add(pretrained_model)"
   ]
  },
  {
   "cell_type": "code",
   "execution_count": 6,
   "id": "40c00d09",
   "metadata": {
    "execution": {
     "iopub.execute_input": "2022-12-24T22:17:53.401808Z",
     "iopub.status.busy": "2022-12-24T22:17:53.401405Z",
     "iopub.status.idle": "2022-12-24T22:17:53.414770Z",
     "shell.execute_reply": "2022-12-24T22:17:53.413759Z"
    },
    "papermill": {
     "duration": 0.021528,
     "end_time": "2022-12-24T22:17:53.417957",
     "exception": false,
     "start_time": "2022-12-24T22:17:53.396429",
     "status": "completed"
    },
    "tags": []
   },
   "outputs": [
    {
     "name": "stdout",
     "output_type": "stream",
     "text": [
      "Model: \"sequential\"\n",
      "_________________________________________________________________\n",
      "Layer (type)                 Output Shape              Param #   \n",
      "=================================================================\n",
      "xception (Functional)        (None, 2048)              20861480  \n",
      "=================================================================\n",
      "Total params: 20,861,480\n",
      "Trainable params: 20,806,952\n",
      "Non-trainable params: 54,528\n",
      "_________________________________________________________________\n"
     ]
    }
   ],
   "source": [
    "xception_model.summary()"
   ]
  },
  {
   "cell_type": "code",
   "execution_count": 7,
   "id": "fc88fa55",
   "metadata": {
    "execution": {
     "iopub.execute_input": "2022-12-24T22:17:53.427322Z",
     "iopub.status.busy": "2022-12-24T22:17:53.426979Z",
     "iopub.status.idle": "2022-12-24T22:17:53.457381Z",
     "shell.execute_reply": "2022-12-24T22:17:53.456272Z"
    },
    "papermill": {
     "duration": 0.038065,
     "end_time": "2022-12-24T22:17:53.459994",
     "exception": false,
     "start_time": "2022-12-24T22:17:53.421929",
     "status": "completed"
    },
    "tags": []
   },
   "outputs": [],
   "source": [
    "xception_model.add(Flatten())\n",
    "xception_model.add(Dense(512, activation='relu'))\n",
    "xception_model.add(Dense(4, activation='softmax'))"
   ]
  },
  {
   "cell_type": "code",
   "execution_count": 8,
   "id": "99847367",
   "metadata": {
    "execution": {
     "iopub.execute_input": "2022-12-24T22:17:53.469069Z",
     "iopub.status.busy": "2022-12-24T22:17:53.468717Z",
     "iopub.status.idle": "2022-12-24T22:17:53.482804Z",
     "shell.execute_reply": "2022-12-24T22:17:53.481601Z"
    },
    "papermill": {
     "duration": 0.021001,
     "end_time": "2022-12-24T22:17:53.485039",
     "exception": false,
     "start_time": "2022-12-24T22:17:53.464038",
     "status": "completed"
    },
    "tags": []
   },
   "outputs": [
    {
     "name": "stdout",
     "output_type": "stream",
     "text": [
      "Model: \"sequential\"\n",
      "_________________________________________________________________\n",
      "Layer (type)                 Output Shape              Param #   \n",
      "=================================================================\n",
      "xception (Functional)        (None, 2048)              20861480  \n",
      "_________________________________________________________________\n",
      "flatten (Flatten)            (None, 2048)              0         \n",
      "_________________________________________________________________\n",
      "dense (Dense)                (None, 512)               1049088   \n",
      "_________________________________________________________________\n",
      "dense_1 (Dense)              (None, 4)                 2052      \n",
      "=================================================================\n",
      "Total params: 21,912,620\n",
      "Trainable params: 21,858,092\n",
      "Non-trainable params: 54,528\n",
      "_________________________________________________________________\n"
     ]
    }
   ],
   "source": [
    "xception_model.summary()"
   ]
  },
  {
   "cell_type": "code",
   "execution_count": 9,
   "id": "113bc597",
   "metadata": {
    "execution": {
     "iopub.execute_input": "2022-12-24T22:17:53.495259Z",
     "iopub.status.busy": "2022-12-24T22:17:53.494869Z",
     "iopub.status.idle": "2022-12-24T22:17:53.512835Z",
     "shell.execute_reply": "2022-12-24T22:17:53.511957Z"
    },
    "papermill": {
     "duration": 0.026066,
     "end_time": "2022-12-24T22:17:53.515148",
     "exception": false,
     "start_time": "2022-12-24T22:17:53.489082",
     "status": "completed"
    },
    "tags": []
   },
   "outputs": [],
   "source": [
    "xception_model.compile(optimizer=Adam(learning_rate=0.001),loss='sparse_categorical_crossentropy',metrics=['accuracy'])\n",
    "\n",
    "callbacks = [\n",
    "    keras.callbacks.ModelCheckpoint(\n",
    "        # Path where to save the model\n",
    "        # The two parameters below mean that we will overwrite\n",
    "        # the current checkpoint if and only if\n",
    "        # the `val_loss` score has improved.\n",
    "        # The saved model name will include the current epoch.\n",
    "        filepath=\"mymodel_{epoch}\",\n",
    "        save_best_only=True,  # Only save a model if `val_accuracy` has improved.\n",
    "        monitor=\"val_accuracy\",\n",
    "        verbose=1,\n",
    "    ),\n",
    "    \n",
    "]\n",
    "\n"
   ]
  },
  {
   "cell_type": "code",
   "execution_count": 10,
   "id": "2206879d",
   "metadata": {
    "execution": {
     "iopub.execute_input": "2022-12-24T22:17:53.525174Z",
     "iopub.status.busy": "2022-12-24T22:17:53.524531Z",
     "iopub.status.idle": "2022-12-25T06:42:24.710585Z",
     "shell.execute_reply": "2022-12-25T06:42:24.709484Z"
    },
    "papermill": {
     "duration": 30271.197035,
     "end_time": "2022-12-25T06:42:24.716254",
     "exception": false,
     "start_time": "2022-12-24T22:17:53.519219",
     "status": "completed"
    },
    "tags": []
   },
   "outputs": [
    {
     "name": "stderr",
     "output_type": "stream",
     "text": [
      "2022-12-24 22:17:56.593974: I tensorflow/compiler/mlir/mlir_graph_optimization_pass.cc:185] None of the MLIR Optimization Passes are enabled (registered 2)\n"
     ]
    },
    {
     "name": "stdout",
     "output_type": "stream",
     "text": [
      "Epoch 1/5\n",
      "819/819 [==============================] - 6009s 7s/step - loss: 0.8054 - accuracy: 0.6116 - val_loss: 0.9133 - val_accuracy: 0.5930\n",
      "\n",
      "Epoch 00001: val_accuracy improved from -inf to 0.59300, saving model to mymodel_1\n"
     ]
    },
    {
     "name": "stderr",
     "output_type": "stream",
     "text": [
      "2022-12-24 23:58:15.946510: W tensorflow/python/util/util.cc:348] Sets are not currently considered sequences, but this may change in the future, so consider avoiding using them.\n",
      "/opt/conda/lib/python3.7/site-packages/keras/utils/generic_utils.py:497: CustomMaskWarning: Custom mask layers require a config and must override get_config. When loading, the custom mask layer must be passed to the custom_objects argument.\n",
      "  category=CustomMaskWarning)\n"
     ]
    },
    {
     "name": "stdout",
     "output_type": "stream",
     "text": [
      "Epoch 2/5\n",
      "819/819 [==============================] - 5992s 7s/step - loss: 0.2492 - accuracy: 0.9007 - val_loss: 0.5044 - val_accuracy: 0.8200\n",
      "\n",
      "Epoch 00002: val_accuracy improved from 0.59300 to 0.82000, saving model to mymodel_2\n"
     ]
    },
    {
     "name": "stderr",
     "output_type": "stream",
     "text": [
      "/opt/conda/lib/python3.7/site-packages/keras/utils/generic_utils.py:497: CustomMaskWarning: Custom mask layers require a config and must override get_config. When loading, the custom mask layer must be passed to the custom_objects argument.\n",
      "  category=CustomMaskWarning)\n"
     ]
    },
    {
     "name": "stdout",
     "output_type": "stream",
     "text": [
      "Epoch 3/5\n",
      "819/819 [==============================] - 6007s 7s/step - loss: 0.0929 - accuracy: 0.9666 - val_loss: 0.2042 - val_accuracy: 0.9300\n",
      "\n",
      "Epoch 00003: val_accuracy improved from 0.82000 to 0.93000, saving model to mymodel_3\n"
     ]
    },
    {
     "name": "stderr",
     "output_type": "stream",
     "text": [
      "/opt/conda/lib/python3.7/site-packages/keras/utils/generic_utils.py:497: CustomMaskWarning: Custom mask layers require a config and must override get_config. When loading, the custom mask layer must be passed to the custom_objects argument.\n",
      "  category=CustomMaskWarning)\n"
     ]
    },
    {
     "name": "stdout",
     "output_type": "stream",
     "text": [
      "Epoch 4/5\n",
      "819/819 [==============================] - 6041s 7s/step - loss: 0.0651 - accuracy: 0.9770 - val_loss: 0.5860 - val_accuracy: 0.8410\n",
      "\n",
      "Epoch 00004: val_accuracy did not improve from 0.93000\n",
      "Epoch 5/5\n",
      "819/819 [==============================] - 6061s 7s/step - loss: 0.0630 - accuracy: 0.9803 - val_loss: 0.0905 - val_accuracy: 0.9720\n",
      "\n",
      "Epoch 00005: val_accuracy improved from 0.93000 to 0.97200, saving model to mymodel_5\n"
     ]
    },
    {
     "name": "stderr",
     "output_type": "stream",
     "text": [
      "/opt/conda/lib/python3.7/site-packages/keras/utils/generic_utils.py:497: CustomMaskWarning: Custom mask layers require a config and must override get_config. When loading, the custom mask layer must be passed to the custom_objects argument.\n",
      "  category=CustomMaskWarning)\n"
     ]
    }
   ],
   "source": [
    "history = xception_model.fit(x_train, y_train,  validation_data=(x_val,y_val),callbacks=callbacks ,epochs=5)"
   ]
  },
  {
   "cell_type": "code",
   "execution_count": 11,
   "id": "0bd8b9b2",
   "metadata": {
    "execution": {
     "iopub.execute_input": "2022-12-25T06:42:25.244638Z",
     "iopub.status.busy": "2022-12-25T06:42:25.243788Z",
     "iopub.status.idle": "2022-12-25T06:42:25.580250Z",
     "shell.execute_reply": "2022-12-25T06:42:25.579049Z"
    },
    "papermill": {
     "duration": 0.611078,
     "end_time": "2022-12-25T06:42:25.582850",
     "exception": false,
     "start_time": "2022-12-25T06:42:24.971772",
     "status": "completed"
    },
    "tags": []
   },
   "outputs": [
    {
     "data": {
      "image/png": "[encoded data removed]",
      "text/plain": [
       "<Figure size 576x576 with 2 Axes>"
      ]
     },
     "metadata": {
      "needs_background": "light"
     },
     "output_type": "display_data"
    }
   ],
   "source": [
    "acc = history.history['accuracy']\n",
    "val_acc = history.history['val_accuracy']\n",
    "\n",
    "loss = history.history['loss']\n",
    "val_loss = history.history['val_loss']\n",
    "\n",
    "epochs_range = range(5)\n",
    "\n",
    "plt.figure(figsize=(8, 8))\n",
    "plt.subplot(1, 2, 1)\n",
    "plt.plot(epochs_range, acc, label='Training Accuracy')\n",
    "plt.plot(epochs_range, val_acc, label='Validation Accuracy')\n",
    "plt.legend(loc='lower right')\n",
    "plt.title('Training and Validation Accuracy')\n",
    "\n",
    "plt.subplot(1, 2, 2)\n",
    "plt.plot(epochs_range, loss, label='Training Loss')\n",
    "plt.plot(epochs_range, val_loss, label='Validation Loss')\n",
    "plt.legend(loc='upper right')\n",
    "plt.title('Training and Validation Loss')\n",
    "plt.show()"
   ]
  },
  {
   "cell_type": "code",
   "execution_count": 12,
   "id": "8c0d02ac",
   "metadata": {
    "execution": {
     "iopub.execute_input": "2022-12-25T06:42:26.098007Z",
     "iopub.status.busy": "2022-12-25T06:42:26.097517Z",
     "iopub.status.idle": "2022-12-25T06:42:27.737025Z",
     "shell.execute_reply": "2022-12-25T06:42:27.735976Z"
    },
    "papermill": {
     "duration": 1.901421,
     "end_time": "2022-12-25T06:42:27.739482",
     "exception": false,
     "start_time": "2022-12-25T06:42:25.838061",
     "status": "completed"
    },
    "tags": []
   },
   "outputs": [
    {
     "name": "stdout",
     "output_type": "stream",
     "text": [
      "tf.Tensor([0.17487772 0.47536692 0.17487772 0.17487772], shape=(4,), dtype=float32)\n"
     ]
    }
   ],
   "source": [
    "# prediction ...\n",
    "\n",
    "img = tf.keras.utils.load_img(\"../input/augmented-alzheimer-mri-dataset-v2/data/train/ModerateDemented/00cece55-8382-4430-a91d-b4c39fab6f9a.jpg\", target_size = (190,200))\n",
    "img_array = tf.keras.utils.img_to_array(img)\n",
    "img_array = tf.expand_dims(img_array, 0) # Create a batch\n",
    "predictions = xception_model.predict(img_array)\n",
    "\n",
    "score = tf.nn.softmax(predictions[0])\n",
    "\n",
    "print(score)"
   ]
  }
 ],
 "metadata": {
  "kernelspec": {
   "display_name": "Python 3",
   "language": "python",
   "name": "python3"
  },
  "language_info": {
   "codemirror_mode": {
    "name": "ipython",
    "version": 3
   },
   "file_extension": ".py",
   "mimetype": "text/x-python",
   "name": "python",
   "nbconvert_exporter": "python",
   "pygments_lexer": "ipython3",
   "version": "3.7.12"
  },
  "papermill": {
   "default_parameters": {},
   "duration": 30639.342097,
   "end_time": "2022-12-25T06:42:32.093063",
   "environment_variables": {},
   "exception": null,
   "input_path": "__notebook__.ipynb",
   "output_path": "__notebook__.ipynb",
   "parameters": {},
   "start_time": "2022-12-24T22:11:52.750966",
   "version": "2.3.4"
  }
 },
 "nbformat": 4,
 "nbformat_minor": 5
}
